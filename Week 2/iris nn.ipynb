{
 "cells": [
  {
   "cell_type": "markdown",
   "id": "c5fde76b",
   "metadata": {},
   "source": [
    "Three fully connected Layer Neural Network with\n",
    "* Activation between layers:ReLU\n",
    "* Optimizer : Stochastic Gradient Descent\n",
    "* Loss Function : Cross - Entropy Loss\n",
    "* Input Layer : 4 neurons (because 4 features)\n",
    "* First hidden layer : 16 neurons \n",
    "* Output layer : 3 Neurons (because 3 classes to predict) "
   ]
  },
  {
   "cell_type": "code",
   "execution_count": 12,
   "id": "fea50260",
   "metadata": {},
   "outputs": [
    {
     "name": "stdout",
     "output_type": "stream",
     "text": [
      "Epoch 1000/10000, Loss: 0.17444436252117157\n",
      "Epoch 2000/10000, Loss: 0.07757975161075592\n",
      "Epoch 3000/10000, Loss: 0.06023329123854637\n",
      "Epoch 4000/10000, Loss: 0.05407843366265297\n",
      "Epoch 5000/10000, Loss: 0.0510391965508461\n",
      "Epoch 6000/10000, Loss: 0.04924585670232773\n",
      "Epoch 7000/10000, Loss: 0.04805948957800865\n",
      "Epoch 8000/10000, Loss: 0.047207459807395935\n",
      "Epoch 9000/10000, Loss: 0.04656097665429115\n",
      "Epoch 10000/10000, Loss: 0.046052850782871246\n",
      "Test Accuracy: 100.0%\n"
     ]
    }
   ],
   "source": [
    "import torch\n",
    "import torch.nn as nn\n",
    "import torch.optim as optim\n",
    "from sklearn.datasets import load_iris\n",
    "from sklearn.model_selection import train_test_split\n",
    "from sklearn.preprocessing import StandardScaler\n",
    "\n",
    "# Load the Iris dataset\n",
    "iris = load_iris()\n",
    "X, y = iris.data, iris.target\n",
    "\n",
    "# Split the dataset into train and test sets\n",
    "X_train, X_test, y_train, y_test = train_test_split(X, y, test_size=0.2, random_state=42)\n",
    "\n",
    "# Standardize the features\n",
    "scaler = StandardScaler()\n",
    "X_train = scaler.fit_transform(X_train)\n",
    "X_test = scaler.transform(X_test)\n",
    "\n",
    "# Convert data to PyTorch tensors\n",
    "X_train = torch.tensor(X_train, dtype=torch.float32)\n",
    "y_train = torch.tensor(y_train, dtype=torch.long)\n",
    "X_test = torch.tensor(X_test, dtype=torch.float32)\n",
    "y_test = torch.tensor(y_test, dtype=torch.long)\n",
    "\n",
    "# Define the neural network model\n",
    "class IrisNet(nn.Module):\n",
    "    def __init__(self):\n",
    "        super(IrisNet, self).__init__()\n",
    "        self.fc1 = nn.Linear(4, 16)\n",
    "        self.fc2 = nn.Linear(16, 16)\n",
    "        self.fc3 = nn.Linear(16, 3)\n",
    "        self.relu = nn.ReLU()\n",
    "\n",
    "    def forward(self, x):\n",
    "        x = self.relu(self.fc1(x))\n",
    "        x = self.relu(self.fc2(x))\n",
    "        x = self.fc3(x)\n",
    "        return x\n",
    "\n",
    "# Initialize the model\n",
    "model = IrisNet()\n",
    "\n",
    "# Define the loss function and optimizer\n",
    "criterion = nn.CrossEntropyLoss()\n",
    "optimizer = optim.SGD(model.parameters(), lr=0.01)\n",
    "\n",
    "# Train the model\n",
    "num_epochs = 10000\n",
    "for epoch in range(num_epochs):\n",
    "    optimizer.zero_grad()#clearning the grad\n",
    "    outputs = model(X_train)#pass the data through model\n",
    "    loss = criterion(outputs, y_train)#loss between predicted and true \n",
    "    loss.backward() # performing backpropagation algorithm\n",
    "    optimizer.step() # update the model parametewrs \n",
    "\n",
    "    if (epoch + 1) % 1000 == 0:\n",
    "        print(f\"Epoch {epoch+1}/{num_epochs}, Loss: {loss.item()}\")\n",
    "\n",
    "# Evaluate the model\n",
    "with torch.no_grad():# no grads are computed during evaluation step\n",
    "    outputs = model(X_test)\n",
    "    _, predicted = torch.max(outputs.data, 1)#class with highesht prob\n",
    "\n",
    "    accuracy = (predicted == y_test).sum().item() / len(y_test)\n",
    "    print(f\"Test Accuracy: {accuracy * 100}%\")"
   ]
  },
  {
   "cell_type": "code",
   "execution_count": null,
   "id": "a4a602ee",
   "metadata": {},
   "outputs": [],
   "source": []
  }
 ],
 "metadata": {
  "kernelspec": {
   "display_name": "Python 3 (ipykernel)",
   "language": "python",
   "name": "python3"
  },
  "language_info": {
   "codemirror_mode": {
    "name": "ipython",
    "version": 3
   },
   "file_extension": ".py",
   "mimetype": "text/x-python",
   "name": "python",
   "nbconvert_exporter": "python",
   "pygments_lexer": "ipython3",
   "version": "3.8.16"
  }
 },
 "nbformat": 4,
 "nbformat_minor": 5
}
