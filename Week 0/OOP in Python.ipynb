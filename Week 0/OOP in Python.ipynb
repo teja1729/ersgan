{
 "cells": [
  {
   "cell_type": "markdown",
   "id": "11a289a1",
   "metadata": {},
   "source": [
    "* Every object has attributes(Variables),behaviour(Methods-functions) \n",
    "* functions in OOP is methods\n",
    "* Objects,class,inheritance,polymorphism,constructor,init\n",
    "* Class - design of the object\n",
    "* class is a data type "
   ]
  },
  {
   "cell_type": "code",
   "execution_count": 6,
   "id": "495bda23",
   "metadata": {},
   "outputs": [],
   "source": [
    "class Computer:\n",
    "    \n",
    "    def config(self):\n",
    "        print(\"This is Ryzen 4600h with 8gb ram\")\n",
    "\n",
    "comp1 = Computer()#this is a constructor"
   ]
  },
  {
   "cell_type": "code",
   "execution_count": 7,
   "id": "7af39d1a",
   "metadata": {},
   "outputs": [
    {
     "name": "stdout",
     "output_type": "stream",
     "text": [
      "<class '__main__.Computer'>\n"
     ]
    }
   ],
   "source": [
    "print(type(comp1))"
   ]
  },
  {
   "cell_type": "code",
   "execution_count": 8,
   "id": "b5442408",
   "metadata": {},
   "outputs": [
    {
     "name": "stdout",
     "output_type": "stream",
     "text": [
      "<class 'int'>\n"
     ]
    }
   ],
   "source": [
    "x = 9 \n",
    "print(type(x))"
   ]
  },
  {
   "cell_type": "code",
   "execution_count": 11,
   "id": "f98914d8",
   "metadata": {},
   "outputs": [
    {
     "name": "stdout",
     "output_type": "stream",
     "text": [
      "This is Ryzen 4600h with 8gb ram\n"
     ]
    }
   ],
   "source": [
    "Computer.config(comp1)# passing the object "
   ]
  },
  {
   "cell_type": "code",
   "execution_count": 9,
   "id": "c5372df1",
   "metadata": {},
   "outputs": [
    {
     "name": "stdout",
     "output_type": "stream",
     "text": [
      "This is Ryzen 4600h with 8gb ram\n"
     ]
    }
   ],
   "source": [
    "comp1.config()#hiding the class "
   ]
  },
  {
   "cell_type": "code",
   "execution_count": 14,
   "id": "8cf9c009",
   "metadata": {},
   "outputs": [],
   "source": [
    "class Computer:\n",
    "    def __init__(self):#this is constructor - called automatically\n",
    "        print(\"You are init \")"
   ]
  },
  {
   "cell_type": "code",
   "execution_count": 16,
   "id": "0b61947b",
   "metadata": {},
   "outputs": [
    {
     "name": "stdout",
     "output_type": "stream",
     "text": [
      "You are init \n",
      "You are init \n"
     ]
    }
   ],
   "source": [
    "comp1 = Computer()\n",
    "comp2 = Computer()"
   ]
  },
  {
   "cell_type": "code",
   "execution_count": 27,
   "id": "2bc5361e",
   "metadata": {},
   "outputs": [],
   "source": [
    "class Computer:\n",
    "    def __init__(self,cpu,ram):\n",
    "        self.cpu = cpu \n",
    "        self.ram = ram\n",
    "    def config(self):\n",
    "        print(self.cpu,self.ram)"
   ]
  },
  {
   "cell_type": "code",
   "execution_count": 28,
   "id": "da322307",
   "metadata": {},
   "outputs": [],
   "source": [
    "comp1 = Computer('Ryzen5600h','8gb ram')"
   ]
  },
  {
   "cell_type": "code",
   "execution_count": 29,
   "id": "27ecbba7",
   "metadata": {},
   "outputs": [
    {
     "name": "stdout",
     "output_type": "stream",
     "text": [
      "Ryzen5600h 8gb ram\n"
     ]
    }
   ],
   "source": [
    "comp1.config()"
   ]
  },
  {
   "cell_type": "code",
   "execution_count": 36,
   "id": "7a2769bc",
   "metadata": {},
   "outputs": [
    {
     "name": "stdout",
     "output_type": "stream",
     "text": [
      "2749567750448\n",
      "2749571464448\n"
     ]
    }
   ],
   "source": [
    "class Computer:\n",
    "    pass\n",
    "    \n",
    "    \n",
    "c1 = Computer()# objects stored in heap memory \n",
    "c2 = Computer()\n",
    "print(id(c1))\n",
    "print(id(c2))"
   ]
  },
  {
   "cell_type": "code",
   "execution_count": 43,
   "id": "b0e4b288",
   "metadata": {},
   "outputs": [
    {
     "name": "stdout",
     "output_type": "stream",
     "text": [
      "Teja\n",
      "22\n",
      "vamsi\n",
      "25\n"
     ]
    },
    {
     "data": {
      "text/plain": [
       "False"
      ]
     },
     "execution_count": 43,
     "metadata": {},
     "output_type": "execute_result"
    }
   ],
   "source": [
    "class Computer:\n",
    "    def __init__(self):\n",
    "        self.name = \"Teja\"\n",
    "        self.age = 22\n",
    "    def update(self):\n",
    "        self.age  = 25\n",
    "    def compare(self,other):\n",
    "        if self.age == other.age:\n",
    "            return True\n",
    "        else:\n",
    "            return False\n",
    "c1 = Computer()\n",
    "c2 = Computer()\n",
    "\n",
    "c2.name = \"vamsi\"\n",
    "c2.update()\n",
    "\n",
    "print(c1.name)\n",
    "print(c1.age)\n",
    "print(c2.name)\n",
    "print(c2.age)\n",
    "\n",
    "c1.compare(c2)"
   ]
  },
  {
   "cell_type": "markdown",
   "id": "7efdc4c9",
   "metadata": {},
   "source": [
    "* self is like pointer pointing to the current instance\n",
    "* memory - object space,class space \n",
    "* Type of variables"
   ]
  },
  {
   "cell_type": "code",
   "execution_count": 49,
   "id": "7f980e91",
   "metadata": {},
   "outputs": [
    {
     "name": "stdout",
     "output_type": "stream",
     "text": [
      "BMW 10\n",
      "BMW 10\n",
      "4\n",
      "5\n"
     ]
    }
   ],
   "source": [
    "class Cars:\n",
    "    \n",
    "    def __init__(self):\n",
    "        self.mil = 10 # instance variable\n",
    "        self.com = \"BMW\"#instance variable\n",
    "    wheels = 4#class variable or static variable\n",
    "    \n",
    "c1 = Cars()\n",
    "c2 = Cars()\n",
    "\n",
    "print(c1.com,c1.mil)\n",
    "print(c2.com,c2.mil)\n",
    "c1.wheels = 5\n",
    "#print(Cars.mil) \n",
    "print(Cars.wheels)\n",
    "print(c1.wheels)"
   ]
  },
  {
   "cell_type": "markdown",
   "id": "1c7735e5",
   "metadata": {},
   "source": [
    "# Types of methods\n",
    "* instance\n",
    "* class\n",
    "* static"
   ]
  },
  {
   "cell_type": "code",
   "execution_count": 72,
   "id": "6440b654",
   "metadata": {},
   "outputs": [
    {
     "name": "stdout",
     "output_type": "stream",
     "text": [
      "44.333333333333336\n",
      "39.0\n",
      "34\n",
      "IIT\n",
      "This is student class in abc module\n"
     ]
    }
   ],
   "source": [
    "class Student:\n",
    "    \n",
    "    school = \"IIT\"\n",
    "    \n",
    "    def __init__(self,m1,m2,m3):\n",
    "        self.m1 = m1\n",
    "        self.m2 = m2\n",
    "        self.m3 = m3\n",
    "        \n",
    "    def average(self):#instance method\n",
    "        return (self.m1+self.m2+self.m3)/3\n",
    "    def get_m1(self):#accesers\n",
    "        return self.m1\n",
    "    def set_m1(self,value):#mutaters\n",
    "        self.m1 = value\n",
    "        \n",
    "    @classmethod\n",
    "    def info(cls):#class methods\n",
    "        return cls.school\n",
    "    @staticmethod\n",
    "    def details():#static method - not using class or instance variable\n",
    "        return \"This is student class in abc module\"\n",
    "        \n",
    "    \n",
    "s1 = Student(34,67,32)\n",
    "s2 = Student(80,32,5)\n",
    "\n",
    "print(s1.average())\n",
    "print(s2.average())\n",
    "print(s1.m1)\n",
    "print(Student.info())\n",
    "print(Student.details())"
   ]
  },
  {
   "cell_type": "markdown",
   "id": "3961c79a",
   "metadata": {},
   "source": [
    "# inner class"
   ]
  },
  {
   "cell_type": "code",
   "execution_count": 89,
   "id": "f16869bb",
   "metadata": {},
   "outputs": [
    {
     "name": "stdout",
     "output_type": "stream",
     "text": [
      "Acer\n",
      "Acer Ryzen 8\n",
      "None\n",
      "teja 1\n"
     ]
    }
   ],
   "source": [
    "class Student:\n",
    "    \n",
    "    def __init__(self,name,rollno):\n",
    "        self.name = name\n",
    "        self.rollno = rollno\n",
    "        self.laptop = self.Laptop()\n",
    "    def show(self):\n",
    "        print(self.name,self.rollno)\n",
    "    \n",
    "    class Laptop:\n",
    "        def __init__(self):\n",
    "            self.brand = \"Acer\"\n",
    "            self.cpu = \"Ryzen\"\n",
    "            self.ram = 8\n",
    "        def show(self):\n",
    "            print(self.brand,self.cpu,self.ram)\n",
    "        \n",
    "\n",
    "s1 = Student(\"teja\",1)\n",
    "s2 = Student(\"Vamsi\",2)\n",
    "\n",
    "print(s1.laptop.brand)\n",
    "\n",
    "print(s1.laptop.show())\n",
    "\n",
    "s1.show()"
   ]
  },
  {
   "cell_type": "markdown",
   "id": "221b914c",
   "metadata": {},
   "source": [
    "# inheritance"
   ]
  },
  {
   "cell_type": "code",
   "execution_count": 94,
   "id": "b0d5e4ca",
   "metadata": {},
   "outputs": [],
   "source": [
    "class A:\n",
    "    def feature1(self):\n",
    "        print(\"Feature_1 is working\")\n",
    "    def feature2(self):\n",
    "        print(\"Feature_2 is working\")\n",
    "class B:\n",
    "    def feature3(self):\n",
    "        print(\"Feature_3 is working\")\n",
    "    def feature4(self):\n",
    "        print(\"Feature_4 is working\")"
   ]
  },
  {
   "cell_type": "code",
   "execution_count": 95,
   "id": "9fe0cee0",
   "metadata": {},
   "outputs": [
    {
     "name": "stdout",
     "output_type": "stream",
     "text": [
      "Feature_1 is working\n",
      "Feature_2 is working\n",
      "Feature_3 is working\n",
      "Feature_4 is working\n"
     ]
    }
   ],
   "source": [
    "a = A()\n",
    "\n",
    "a.feature1()\n",
    "a.feature2()\n",
    "\n",
    "b = B()\n",
    "\n",
    "b.feature3()\n",
    "b.feature4()"
   ]
  },
  {
   "cell_type": "code",
   "execution_count": 96,
   "id": "967fef03",
   "metadata": {},
   "outputs": [],
   "source": [
    "class A:\n",
    "    def feature1(self):\n",
    "        print(\"Feature_1 is working\")\n",
    "    def feature2(self):\n",
    "        print(\"Feature_2 is working\")\n",
    "class B(A):\n",
    "    def feature3(self):\n",
    "        print(\"Feature_3 is working\")\n",
    "    def feature4(self):\n",
    "        print(\"Feature_4 is working\")"
   ]
  },
  {
   "cell_type": "code",
   "execution_count": 97,
   "id": "d018ee06",
   "metadata": {},
   "outputs": [
    {
     "name": "stdout",
     "output_type": "stream",
     "text": [
      "Feature_1 is working\n"
     ]
    }
   ],
   "source": [
    "b = B()\n",
    "\n",
    "b.feature1()"
   ]
  },
  {
   "cell_type": "code",
   "execution_count": 99,
   "id": "6b75f19e",
   "metadata": {},
   "outputs": [
    {
     "name": "stdout",
     "output_type": "stream",
     "text": [
      "Feature_1 is working\n"
     ]
    }
   ],
   "source": [
    "class C(B):\n",
    "    def feature5(self):\n",
    "        print(\"Feature_5 is working\")\n",
    "c = C()\n",
    "c.feature1()"
   ]
  },
  {
   "cell_type": "code",
   "execution_count": 102,
   "id": "1a02053a",
   "metadata": {},
   "outputs": [
    {
     "name": "stdout",
     "output_type": "stream",
     "text": [
      "Feature_1 is working\n",
      "Feature_3 is working\n"
     ]
    }
   ],
   "source": [
    "class A:\n",
    "    def feature1(self):\n",
    "        print(\"Feature_1 is working\")\n",
    "    def feature2(self):\n",
    "        print(\"Feature_2 is working\")\n",
    "class B:\n",
    "    def feature3(self):\n",
    "        print(\"Feature_3 is working\")\n",
    "    def feature4(self):\n",
    "        print(\"Feature_4 is working\")\n",
    "class C(B,A):\n",
    "    def feature5(self):\n",
    "        print(\"Feature_5 is working\")\n",
    "c = C()\n",
    "c.feature1()\n",
    "c.feature3()"
   ]
  },
  {
   "cell_type": "code",
   "execution_count": 103,
   "id": "3af7ad5e",
   "metadata": {},
   "outputs": [
    {
     "name": "stdout",
     "output_type": "stream",
     "text": [
      "In A init\n"
     ]
    }
   ],
   "source": [
    "class A:\n",
    "    def __init__(self):\n",
    "        print(\"In A init\")\n",
    "        \n",
    "    def feature1(self):\n",
    "        print(\"Feature_1 is working\")\n",
    "    def feature2(self):\n",
    "        print(\"Feature_2 is working\")\n",
    "class B(A):\n",
    "    def feature3(self):\n",
    "        print(\"Feature_3 is working\")\n",
    "    def feature4(self):\n",
    "        print(\"Feature_4 is working\")\n",
    "        \n",
    "a = A()"
   ]
  },
  {
   "cell_type": "code",
   "execution_count": 104,
   "id": "f212b337",
   "metadata": {},
   "outputs": [
    {
     "name": "stdout",
     "output_type": "stream",
     "text": [
      "In A init\n"
     ]
    }
   ],
   "source": [
    "b=B()#since we don't have init in B that is why it is going to A"
   ]
  },
  {
   "cell_type": "code",
   "execution_count": 107,
   "id": "cc6f67fd",
   "metadata": {},
   "outputs": [
    {
     "name": "stdout",
     "output_type": "stream",
     "text": [
      "In A init\n",
      "In B init\n"
     ]
    }
   ],
   "source": [
    "class A:\n",
    "    def __init__(self):\n",
    "        print(\"In A init\")\n",
    "        \n",
    "    def feature1(self):\n",
    "        print(\"Feature_1 is working\")\n",
    "    def feature2(self):\n",
    "        print(\"Feature_2 is working\")\n",
    "class B(A):\n",
    "    def __init__(self):\n",
    "        super().__init__()\n",
    "        print(\"In B init\")\n",
    "    def feature3(self):\n",
    "        print(\"Feature_3 is working\")\n",
    "    def feature4(self):\n",
    "        print(\"Feature_4 is working\")\n",
    "        \n",
    "b=B()"
   ]
  },
  {
   "cell_type": "code",
   "execution_count": 117,
   "id": "a935781d",
   "metadata": {},
   "outputs": [
    {
     "name": "stdout",
     "output_type": "stream",
     "text": [
      "In C init\n",
      "In A init\n"
     ]
    }
   ],
   "source": [
    "class A:\n",
    "    def __init__(self):\n",
    "        print(\"In A init\")\n",
    "        \n",
    "    def feature1(self):\n",
    "        print(\"Feature_1 is working\")\n",
    "    def feature2(self):\n",
    "        print(\"Feature_2 is working\")\n",
    "class B:\n",
    "    def __init__(self):\n",
    "        print(\"In B init\")\n",
    "    def feature3(self):\n",
    "        print(\"Feature_3 is working\")\n",
    "    def feature4(self):\n",
    "        print(\"Feature_4 is working\")\n",
    "class C(A,B):#left to right Method resolution order\n",
    "    def __init__(self):\n",
    "        print(\"In C init\")\n",
    "        super().__init__()\n",
    "c = C()    "
   ]
  },
  {
   "cell_type": "markdown",
   "id": "71dca3ec",
   "metadata": {},
   "source": [
    "# polymorphism- many forms\n",
    "\n",
    "* duck typing\n",
    "* operator overloading\n",
    "* method overloading\n",
    "* method overriding"
   ]
  },
  {
   "cell_type": "code",
   "execution_count": 125,
   "id": "3f79d135",
   "metadata": {},
   "outputs": [
    {
     "name": "stdout",
     "output_type": "stream",
     "text": [
      "Extra stuff\n",
      "comping \n",
      "Execute\n"
     ]
    }
   ],
   "source": [
    "class Pycharm:\n",
    "    def execute(self):\n",
    "        print(\"compiling\")\n",
    "        print(\"Execute\")\n",
    "class Myeditor:\n",
    "    def execute(self):\n",
    "        print(\"Extra stuff\")\n",
    "        print(\"comping \")\n",
    "        print(\"Execute\")\n",
    "class Laptop:\n",
    "    def code(self,ide):\n",
    "        ide.execute()\n",
    "        \n",
    "ide  = Myeditor()\n",
    "\n",
    "lap1 = Laptop()\n",
    "lap1.code(ide)"
   ]
  },
  {
   "cell_type": "markdown",
   "id": "94cafb63",
   "metadata": {},
   "source": [
    "* operator overloading"
   ]
  },
  {
   "cell_type": "code",
   "execution_count": 126,
   "id": "4a912203",
   "metadata": {},
   "outputs": [
    {
     "data": {
      "text/plain": [
       "11"
      ]
     },
     "execution_count": 126,
     "metadata": {},
     "output_type": "execute_result"
    }
   ],
   "source": [
    "5+6 "
   ]
  },
  {
   "cell_type": "code",
   "execution_count": 127,
   "id": "e3f991d8",
   "metadata": {},
   "outputs": [
    {
     "data": {
      "text/plain": [
       "'56'"
      ]
     },
     "execution_count": 127,
     "metadata": {},
     "output_type": "execute_result"
    }
   ],
   "source": [
    "\"5\"+\"6\""
   ]
  },
  {
   "cell_type": "code",
   "execution_count": 129,
   "id": "7b249a2c",
   "metadata": {},
   "outputs": [
    {
     "data": {
      "text/plain": [
       "11"
      ]
     },
     "execution_count": 129,
     "metadata": {},
     "output_type": "execute_result"
    }
   ],
   "source": [
    "a  = 5 \n",
    "b  = 6\n",
    "a+b"
   ]
  },
  {
   "cell_type": "code",
   "execution_count": 130,
   "id": "c73f0d08",
   "metadata": {},
   "outputs": [
    {
     "data": {
      "text/plain": [
       "11"
      ]
     },
     "execution_count": 130,
     "metadata": {},
     "output_type": "execute_result"
    }
   ],
   "source": [
    "int.__add__(a,b)#magic methods"
   ]
  },
  {
   "cell_type": "code",
   "execution_count": 132,
   "id": "db5a4309",
   "metadata": {},
   "outputs": [
    {
     "data": {
      "text/plain": [
       "'56'"
      ]
     },
     "execution_count": 132,
     "metadata": {},
     "output_type": "execute_result"
    }
   ],
   "source": [
    "str.__add__(str(a),str(b))"
   ]
  },
  {
   "cell_type": "code",
   "execution_count": 135,
   "id": "f4b3f6d8",
   "metadata": {},
   "outputs": [],
   "source": [
    "class Student:\n",
    "    def __init__(self,m1,m2):\n",
    "        self.m1 = m1\n",
    "        self.m2 = m2\n",
    "        \n",
    "s1 = Student(34,24)\n",
    "s2 = Student(45,12)"
   ]
  },
  {
   "cell_type": "code",
   "execution_count": 136,
   "id": "c6fbb5fc",
   "metadata": {},
   "outputs": [
    {
     "ename": "TypeError",
     "evalue": "unsupported operand type(s) for +: 'Student' and 'Student'",
     "output_type": "error",
     "traceback": [
      "\u001b[1;31m---------------------------------------------------------------------------\u001b[0m",
      "\u001b[1;31mTypeError\u001b[0m                                 Traceback (most recent call last)",
      "Cell \u001b[1;32mIn[136], line 1\u001b[0m\n\u001b[1;32m----> 1\u001b[0m s1 \u001b[38;5;241m=\u001b[39m\u001b[43ms1\u001b[49m\u001b[38;5;241;43m+\u001b[39;49m\u001b[43ms2\u001b[49m\n",
      "\u001b[1;31mTypeError\u001b[0m: unsupported operand type(s) for +: 'Student' and 'Student'"
     ]
    }
   ],
   "source": [
    "s1 =s1+s2"
   ]
  },
  {
   "cell_type": "code",
   "execution_count": 140,
   "id": "71a7a214",
   "metadata": {},
   "outputs": [
    {
     "name": "stdout",
     "output_type": "stream",
     "text": [
      "79\n"
     ]
    }
   ],
   "source": [
    "class Student:\n",
    "    def __init__(self,m1,m2):\n",
    "        self.m1 = m1\n",
    "        self.m2 = m2\n",
    "    def __add__(self,other):#operator overloading\n",
    "        m1 = self.m1+other.m1\n",
    "        m2 = self.m2 +other.m2\n",
    "        s3 = Student(m1,m2)\n",
    "        return s3\n",
    "    \n",
    "s1 = Student(34,24)\n",
    "s2 = Student(45,12)\n",
    "\n",
    "s3 = s1+s2\n",
    "print(s3.m1)"
   ]
  },
  {
   "cell_type": "markdown",
   "id": "71c0026f",
   "metadata": {},
   "source": [
    "* method overloading we don't have in python\n",
    "* method overriding"
   ]
  },
  {
   "cell_type": "code",
   "execution_count": 147,
   "id": "80a1c2d7",
   "metadata": {},
   "outputs": [
    {
     "data": {
      "text/plain": [
       "5"
      ]
     },
     "execution_count": 147,
     "metadata": {},
     "output_type": "execute_result"
    }
   ],
   "source": [
    "class Student:\n",
    "    def __init__(self,m1,m2):\n",
    "        self.m1 = m1\n",
    "        self.m2 = m2\n",
    "    def sum(self,a=None,b = None,c = None):\n",
    "        s = 0\n",
    "        if a != None and b!= None and c!=None:\n",
    "            s = a+b+c\n",
    "        elif a!= None and b!= None:\n",
    "            s = a+b\n",
    "        else:\n",
    "            s = a\n",
    "        return s\n",
    "s1 = Student(34,24)\n",
    "s1.sum(2,3)"
   ]
  },
  {
   "cell_type": "code",
   "execution_count": 152,
   "id": "5a37f038",
   "metadata": {},
   "outputs": [
    {
     "name": "stdout",
     "output_type": "stream",
     "text": [
      "In B show\n"
     ]
    }
   ],
   "source": [
    "class A:\n",
    "    def show(self):\n",
    "        print(\"In A show\")\n",
    "class B(A):\n",
    "    def show(self):\n",
    "        print(\"In B show\")\n",
    "\n",
    "b = B()\n",
    "b.show()"
   ]
  },
  {
   "cell_type": "code",
   "execution_count": null,
   "id": "a0a87856",
   "metadata": {},
   "outputs": [],
   "source": []
  }
 ],
 "metadata": {
  "kernelspec": {
   "display_name": "Python 3 (ipykernel)",
   "language": "python",
   "name": "python3"
  },
  "language_info": {
   "codemirror_mode": {
    "name": "ipython",
    "version": 3
   },
   "file_extension": ".py",
   "mimetype": "text/x-python",
   "name": "python",
   "nbconvert_exporter": "python",
   "pygments_lexer": "ipython3",
   "version": "3.8.16"
  }
 },
 "nbformat": 4,
 "nbformat_minor": 5
}
